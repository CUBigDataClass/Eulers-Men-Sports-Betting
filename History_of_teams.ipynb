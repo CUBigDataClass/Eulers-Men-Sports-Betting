{
 "cells": [
  {
   "cell_type": "code",
   "execution_count": 1,
   "metadata": {},
   "outputs": [],
   "source": [
    "import pandas as pd\n",
    "import numpy as np\n",
    "from tkinter import *\n",
    "\n",
    "# to print everything\n",
    "from IPython.core.interactiveshell import InteractiveShell\n",
    "InteractiveShell.ast_node_interactivity = \"all\"\n",
    "\n",
    "# read csv into memory, later just query sql table\n",
    "dt = pd.read_csv('bet365_outcome_features.csv')"
   ]
  },
  {
   "cell_type": "code",
   "execution_count": 2,
   "metadata": {},
   "outputs": [
    {
     "data": {
      "text/plain": [
       "''"
      ]
     },
     "execution_count": 2,
     "metadata": {},
     "output_type": "execute_result"
    },
    {
     "data": {
      "text/plain": [
       "''"
      ]
     },
     "execution_count": 2,
     "metadata": {},
     "output_type": "execute_result"
    },
    {
     "data": {
      "text/plain": [
       "''"
      ]
     },
     "execution_count": 2,
     "metadata": {},
     "output_type": "execute_result"
    }
   ],
   "source": [
    "# Create drop down boxes\n",
    "options = np.unique(dt['league'])\n",
    "master = Tk()\n",
    "master.title('Pick the league')\n",
    "variable = StringVar(master)\n",
    "variable.set(options[0]) # default value\n",
    "w = OptionMenu(master, variable, *options)\n",
    "w.pack()\n",
    "mainloop()\n",
    "league = variable.get()\n",
    "df = dt[dt['league'] == league]\n",
    "\n",
    "options = np.unique(df['home_team'])\n",
    "master = Tk()\n",
    "master.title('Pick a team')\n",
    "variable = StringVar(master)\n",
    "variable.set(options[0]) # default value\n",
    "w = OptionMenu(master, variable, *options)\n",
    "w.pack()\n",
    "mainloop()\n",
    "team1 = variable.get()\n",
    "\n",
    "options = np.unique(df['home_team'])\n",
    "master = Tk()\n",
    "master.title('Pick another team')\n",
    "variable = StringVar(master)\n",
    "variable.set(options[0]) # default value\n",
    "w = OptionMenu(master, variable, *options)\n",
    "w.pack()\n",
    "mainloop()\n",
    "team2 = variable.get()"
   ]
  },
  {
   "cell_type": "code",
   "execution_count": 3,
   "metadata": {},
   "outputs": [],
   "source": [
    "dt1 = dt[(dt.home_team == team1) & (dt.away_team == team2)]\n",
    "dt2 = dt[(dt.home_team == team2) & (dt.away_team == team1)]\n",
    "df = pd.concat([dt1, dt2])"
   ]
  },
  {
   "cell_type": "code",
   "execution_count": 9,
   "metadata": {},
   "outputs": [
    {
     "data": {
      "image/png": "[encoded data removed]",
      "text/plain": [
       "<matplotlib.figure.Figure at 0x1254afcf8>"
      ]
     },
     "metadata": {},
     "output_type": "display_data"
    }
   ],
   "source": [
    "import matplotlib.pyplot as plt\n",
    "\n",
    "n_games = df['home_team'].size\n",
    "\n",
    "# x is integers from 1 to n_games for home teams then 1 to n_games for away\n",
    "x = np.concatenate([np.linspace(1, n_games, n_games)]*2)\n",
    "\n",
    "# y is home_teams first at y=1 then away teams at y=y_height\n",
    "y_height = 3\n",
    "y = np.concatenate([np.ones(n_games), y_height*np.ones(n_games)])\n",
    "\n",
    "# sizes of bubbles are odds of each team\n",
    "sizes = np.concatenate([df['home_closing'], df['away_closing']])\n",
    "\n",
    "# names of teams\n",
    "team_names = np.concatenate([df['home_team'], df['away_team']])\n",
    "\n",
    "# colors is the color of each bubble where team1 = blue and team2  = red \n",
    "colors = ['grey']*n_games*2\n",
    "i = 0 # i is the row of df\n",
    "while i < n_games:\n",
    "    outcome = df['outcome'].values[i]\n",
    "    if outcome == 'home':\n",
    "        team = df['home_team'].values[i]\n",
    "        if team == team1:\n",
    "            colors[i] = 'blue'\n",
    "        else:\n",
    "            colors[i] = 'red'\n",
    "    elif outcome == 'away':\n",
    "        team = df['away_team'].values[i]\n",
    "        if team == team1:\n",
    "            colors[n_games + i] = 'blue'\n",
    "        else:\n",
    "            colors[n_games + i] = 'red'\n",
    "    i = i+1\n",
    "\n",
    "# Make plot = p\n",
    "p = plt.scatter(x,y, s = sizes*1000*(6-n_games), c = colors, alpha = 0.4)\n",
    "p = plt.xlim(0, n_games + 1)\n",
    "p = plt.ylim(0,y_height + 1)\n",
    "p = plt.yticks([1, y_height], ['home', 'away'])\n",
    "p = plt.xticks(x[0:n_games], df['match_date'])\n",
    "plt.rcParams[\"figure.figsize\"] = [9,9]\n",
    "#plt.show()\n",
    "\n",
    "# add text to each point to plot p\n",
    "i = 0\n",
    "while i < n_games*2:\n",
    "    p = plt.text(x[i], y[i], team_names[i], \n",
    "             horizontalalignment='center', \n",
    "             verticalalignment='center')\n",
    "    i = i+1\n",
    "plt.show()\n",
    "#p.plt.text(0.5, 0.5, 'matplotlib', horizontalalignment='center', verticalalignment='center', transform=ax.transAxes)"
   ]
  },
  {
   "cell_type": "code",
   "execution_count": 8,
   "metadata": {},
   "outputs": [],
   "source": []
  },
  {
   "cell_type": "code",
   "execution_count": null,
   "metadata": {},
   "outputs": [],
   "source": []
  }
 ],
 "metadata": {
  "kernelspec": {
   "display_name": "Python 3",
   "language": "python",
   "name": "python3"
  },
  "language_info": {
   "codemirror_mode": {
    "name": "ipython",
    "version": 3
   },
   "file_extension": ".py",
   "mimetype": "text/x-python",
   "name": "python",
   "nbconvert_exporter": "python",
   "pygments_lexer": "ipython3",
   "version": "3.6.4"
  }
 },
 "nbformat": 4,
 "nbformat_minor": 2
}
