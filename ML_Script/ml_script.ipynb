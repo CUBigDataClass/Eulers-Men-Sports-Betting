{
 "cells": [
  {
   "cell_type": "code",
   "execution_count": 14,
   "metadata": {},
   "outputs": [],
   "source": [
    "import numpy as np\n",
    "import pandas as pd \n",
    "import os\n",
    "import matplotlib.pyplot as plt\n",
    "from sklearn.model_selection import train_test_split\n",
    "from sklearn.ensemble import RandomForestClassifier"
   ]
  },
  {
   "cell_type": "code",
   "execution_count": 15,
   "metadata": {},
   "outputs": [],
   "source": [
    "# Set hyperparameter values\n",
    "num_trees = 10\n",
    "rand_state = 420\n",
    "num_jobs = 1 # parameter for parallelization"
   ]
  },
  {
   "cell_type": "code",
   "execution_count": 16,
   "metadata": {},
   "outputs": [],
   "source": [
    "df = pd.read_csv('../bet365_outcome_features.csv', sep=',')\n",
    "df = df.dropna()"
   ]
  },
  {
   "cell_type": "code",
   "execution_count": 50,
   "metadata": {},
   "outputs": [],
   "source": [
    "label_colmn = \"outcome\"\n",
    "predictor_colmns = ['closing_odds_outcome','home_opening', 'home_closing', 'draw_opening',\n",
    "       'draw_closing', 'away_opening', 'away_closing',\n",
    "       'home_opening_minus_closing', 'draw_opening_minus_closing',\n",
    "       'away_opening_minus_closing', 'home_min', 'home_max', 'home_range',\n",
    "       'draw_min', 'draw_max', 'draw_range', 'away_min', 'away_max',\n",
    "       'away_range']\n",
    "# predictor_colmns = ['closing_odds_outcome']\n",
    "\n"
   ]
  },
  {
   "cell_type": "code",
   "execution_count": 51,
   "metadata": {},
   "outputs": [],
   "source": [
    "X = df[predictor_colmns]\n",
    "y = pd.factorize(df[label_colmn])[0]\n",
    "\n",
    "X_train, X_test, y_train, y_test = train_test_split(X, y, test_size=0.2, random_state=rand_state)"
   ]
  },
  {
   "cell_type": "code",
   "execution_count": 27,
   "metadata": {},
   "outputs": [],
   "source": [
    "# null_columns=X_train.columns[X_train.isnull().any()]\n",
    "# print(X_train[X_train.isnull().any(axis=1)][null_columns].head())\n",
    "# X_train['closing_odds_outcome'][289]\n",
    "# null_columns\n",
    "# X_train.isnull().any(axis=1).sum()"
   ]
  },
  {
   "cell_type": "code",
   "execution_count": 28,
   "metadata": {},
   "outputs": [
    {
     "data": {
      "text/plain": [
       "Series([], dtype: float64)"
      ]
     },
     "execution_count": 28,
     "metadata": {},
     "output_type": "execute_result"
    }
   ],
   "source": [
    "null_columns=df.columns[df.isnull().any()]\n",
    "df[null_columns].isnull().sum()"
   ]
  },
  {
   "cell_type": "code",
   "execution_count": 52,
   "metadata": {},
   "outputs": [],
   "source": [
    "RF_clf = RandomForestClassifier(n_estimators=num_trees, random_state=rand_state)\n"
   ]
  },
  {
   "cell_type": "code",
   "execution_count": 53,
   "metadata": {},
   "outputs": [
    {
     "data": {
      "text/plain": [
       "RandomForestClassifier(bootstrap=True, class_weight=None, criterion='gini',\n",
       "            max_depth=None, max_features='auto', max_leaf_nodes=None,\n",
       "            min_impurity_decrease=0.0, min_impurity_split=None,\n",
       "            min_samples_leaf=1, min_samples_split=2,\n",
       "            min_weight_fraction_leaf=0.0, n_estimators=10, n_jobs=None,\n",
       "            oob_score=False, random_state=420, verbose=0, warm_start=False)"
      ]
     },
     "execution_count": 53,
     "metadata": {},
     "output_type": "execute_result"
    }
   ],
   "source": [
    "RF_clf.fit(X_train, y_train)"
   ]
  },
  {
   "cell_type": "code",
   "execution_count": 54,
   "metadata": {},
   "outputs": [
    {
     "data": {
      "text/plain": [
       "(array([0, 0, 0, 0, 0, 1, 0, 1, 2, 0, 0, 1, 1, 1, 1, 0, 1, 2, 2, 0, 1, 0,\n",
       "        2, 2, 1, 0, 0, 1, 0, 2, 0, 1, 0, 2, 1, 1, 1, 1, 1, 2, 0, 2, 0, 0,\n",
       "        1, 2, 1, 1, 0, 2, 1, 2, 1, 1, 0, 2, 0, 0, 0, 0, 1, 2, 0, 1, 0, 1,\n",
       "        1, 1, 1, 1, 1, 0, 2, 0, 0, 0, 0, 0, 1, 0, 2, 0, 1, 1, 2, 0, 0],\n",
       "       dtype=int64),\n",
       " array([0, 0, 0, 0, 0, 1, 0, 1, 2, 0, 0, 1, 1, 1, 1, 0, 1, 2, 2, 0, 1, 0,\n",
       "        2, 2, 1, 0, 0, 1, 0, 2, 0, 1, 0, 2, 2, 1, 1, 1, 1, 2, 0, 2, 0, 0,\n",
       "        1, 2, 1, 1, 0, 2, 1, 0, 2, 1, 0, 0, 2, 0, 0, 0, 0, 2, 0, 1, 0, 0,\n",
       "        1, 1, 1, 1, 1, 0, 2, 0, 0, 0, 0, 2, 1, 0, 2, 0, 2, 1, 2, 0, 0],\n",
       "       dtype=int64))"
      ]
     },
     "execution_count": 54,
     "metadata": {},
     "output_type": "execute_result"
    }
   ],
   "source": [
    "y_pred = RF_clf.predict(X_test)\n",
    "y_pred, y_test"
   ]
  },
  {
   "cell_type": "code",
   "execution_count": 55,
   "metadata": {},
   "outputs": [
    {
     "data": {
      "text/plain": [
       "0.896551724137931"
      ]
     },
     "execution_count": 55,
     "metadata": {},
     "output_type": "execute_result"
    },
    {
     "data": {
      "text/html": [
       "<div>\n",
       "<style scoped>\n",
       "    .dataframe tbody tr th:only-of-type {\n",
       "        vertical-align: middle;\n",
       "    }\n",
       "\n",
       "    .dataframe tbody tr th {\n",
       "        vertical-align: top;\n",
       "    }\n",
       "\n",
       "    .dataframe thead th {\n",
       "        text-align: right;\n",
       "    }\n",
       "</style>\n",
       "<table border=\"1\" class=\"dataframe\">\n",
       "  <thead>\n",
       "    <tr style=\"text-align: right;\">\n",
       "      <th></th>\n",
       "      <th>importance</th>\n",
       "    </tr>\n",
       "  </thead>\n",
       "  <tbody>\n",
       "    <tr>\n",
       "      <th>closing_odds_outcome</th>\n",
       "      <td>0.444444</td>\n",
       "    </tr>\n",
       "    <tr>\n",
       "      <th>home_min</th>\n",
       "      <td>0.051624</td>\n",
       "    </tr>\n",
       "    <tr>\n",
       "      <th>away_max</th>\n",
       "      <td>0.045705</td>\n",
       "    </tr>\n",
       "    <tr>\n",
       "      <th>home_opening</th>\n",
       "      <td>0.042312</td>\n",
       "    </tr>\n",
       "    <tr>\n",
       "      <th>away_opening</th>\n",
       "      <td>0.040354</td>\n",
       "    </tr>\n",
       "    <tr>\n",
       "      <th>home_closing</th>\n",
       "      <td>0.036531</td>\n",
       "    </tr>\n",
       "    <tr>\n",
       "      <th>home_opening_minus_closing</th>\n",
       "      <td>0.034369</td>\n",
       "    </tr>\n",
       "    <tr>\n",
       "      <th>away_closing</th>\n",
       "      <td>0.032153</td>\n",
       "    </tr>\n",
       "    <tr>\n",
       "      <th>draw_opening_minus_closing</th>\n",
       "      <td>0.030398</td>\n",
       "    </tr>\n",
       "    <tr>\n",
       "      <th>home_max</th>\n",
       "      <td>0.029607</td>\n",
       "    </tr>\n",
       "    <tr>\n",
       "      <th>away_min</th>\n",
       "      <td>0.028546</td>\n",
       "    </tr>\n",
       "    <tr>\n",
       "      <th>away_opening_minus_closing</th>\n",
       "      <td>0.027357</td>\n",
       "    </tr>\n",
       "    <tr>\n",
       "      <th>home_range</th>\n",
       "      <td>0.027078</td>\n",
       "    </tr>\n",
       "    <tr>\n",
       "      <th>away_range</th>\n",
       "      <td>0.025296</td>\n",
       "    </tr>\n",
       "    <tr>\n",
       "      <th>draw_range</th>\n",
       "      <td>0.025208</td>\n",
       "    </tr>\n",
       "    <tr>\n",
       "      <th>draw_opening</th>\n",
       "      <td>0.023177</td>\n",
       "    </tr>\n",
       "    <tr>\n",
       "      <th>draw_min</th>\n",
       "      <td>0.022680</td>\n",
       "    </tr>\n",
       "    <tr>\n",
       "      <th>draw_max</th>\n",
       "      <td>0.017432</td>\n",
       "    </tr>\n",
       "    <tr>\n",
       "      <th>draw_closing</th>\n",
       "      <td>0.015728</td>\n",
       "    </tr>\n",
       "  </tbody>\n",
       "</table>\n",
       "</div>"
      ],
      "text/plain": [
       "                            importance\n",
       "closing_odds_outcome          0.444444\n",
       "home_min                      0.051624\n",
       "away_max                      0.045705\n",
       "home_opening                  0.042312\n",
       "away_opening                  0.040354\n",
       "home_closing                  0.036531\n",
       "home_opening_minus_closing    0.034369\n",
       "away_closing                  0.032153\n",
       "draw_opening_minus_closing    0.030398\n",
       "home_max                      0.029607\n",
       "away_min                      0.028546\n",
       "away_opening_minus_closing    0.027357\n",
       "home_range                    0.027078\n",
       "away_range                    0.025296\n",
       "draw_range                    0.025208\n",
       "draw_opening                  0.023177\n",
       "draw_min                      0.022680\n",
       "draw_max                      0.017432\n",
       "draw_closing                  0.015728"
      ]
     },
     "execution_count": 55,
     "metadata": {},
     "output_type": "execute_result"
    }
   ],
   "source": [
    "sum(y_pred==y_test)/len(y_pred)\n",
    "\n",
    "feature_importances = pd.DataFrame(RF_clf.feature_importances_,\n",
    "                                   index = X_train.columns,\n",
    "                                    columns=['importance']).sort_values('importance',                                                                 ascending=False)\n",
    "feature_importances\n"
   ]
  },
  {
   "cell_type": "code",
   "execution_count": 23,
   "metadata": {},
   "outputs": [
    {
     "data": {
      "text/plain": [
       "'C:\\\\Users\\\\Erik\\\\Desktop\\\\Eulers-Men-Sports-Betting\\\\ML_Script'"
      ]
     },
     "execution_count": 23,
     "metadata": {},
     "output_type": "execute_result"
    },
    {
     "data": {
      "text/plain": [
       "CategoricalDtype(categories=['away', 'draw', 'home'], ordered=False)"
      ]
     },
     "execution_count": 23,
     "metadata": {},
     "output_type": "execute_result"
    },
    {
     "data": {
      "text/plain": [
       "Index(['Unnamed: 0', 'V1', 'match_id', 'match_date', 'match_time', 'outcome',\n",
       "       'closing_odds_outcome', 'home_opening', 'home_closing', 'draw_opening',\n",
       "       'draw_closing', 'away_opening', 'away_closing',\n",
       "       'home_opening_minus_closing', 'draw_opening_minus_closing',\n",
       "       'away_opening_minus_closing', 'home_min', 'home_max', 'home_range',\n",
       "       'draw_min', 'draw_max', 'draw_range', 'away_min', 'away_max',\n",
       "       'away_range'],\n",
       "      dtype='object')"
      ]
     },
     "execution_count": 23,
     "metadata": {},
     "output_type": "execute_result"
    },
    {
     "data": {
      "text/plain": [
       "(array([0, 1, 0, 0, 0, 0, 2, 2, 1, 1, 0, 1, 2, 0, 1, 2, 1, 2, 0, 2, 2, 0,\n",
       "        1, 1, 0, 2, 0, 1, 0, 1, 0, 0, 0, 1, 0, 0, 0, 1, 2, 0, 2, 2, 1, 1,\n",
       "        0, 0, 1, 1, 2, 0, 1, 0, 1, 1, 2, 0, 0, 0, 2, 2, 2, 0, 2, 0, 0, 2,\n",
       "        2, 1, 0, 2, 1, 0, 2, 2, 0, 0, 1, 2, 0, 1, 2, 1, 0, 0, 1, 1, 1, 1,\n",
       "        1, 2, 0, 2, 0, 0, 2, 2, 2, 0, 0, 0, 0, 1, 0, 2, 1, 0, 1, 0, 0, 2,\n",
       "        0, 2, 1, 0, 0, 2, 0, 0, 0, 0, 1, 1, 2, 0, 1, 2, 2, 2, 0, 0, 1, 2,\n",
       "        1, 0, 0, 2, 0, 0, 0, 2, 1, 2, 0, 1, 1, 0, 1, 2, 0, 2, 2, 1, 1, 2,\n",
       "        0, 1, 1, 0, 1, 0, 2, 0, 2, 1, 0, 2, 0, 1, 2, 0, 0, 1, 2, 0, 1, 1,\n",
       "        1, 2, 1, 0, 0, 1, 1, 0, 0, 1, 0, 2, 0, 0, 0, 0, 0, 1, 0, 0, 2, 0,\n",
       "        1, 0, 0, 0, 1, 0, 1, 2, 2, 1, 0, 2, 1, 0, 1, 1, 2, 2, 0, 2, 0, 0,\n",
       "        2, 0, 1, 0, 0, 2, 0, 2, 1, 2, 2, 0, 0, 1, 0, 1, 0, 2, 0, 0, 0, 2,\n",
       "        0, 0, 0, 0, 0, 2, 2, 2, 0, 2, 1, 0, 2, 1, 2, 1, 0, 0, 0, 0, 2, 2,\n",
       "        1, 0, 1, 2, 0, 1, 1, 0, 0, 1, 1, 2, 2, 2, 0, 1, 1, 0, 0, 2, 0, 0,\n",
       "        1, 0, 0, 0, 1, 0, 1, 0, 1, 1, 2, 1, 0, 1, 2, 2, 0, 2, 0, 0, 2, 1,\n",
       "        1, 2, 0, 0, 1, 0, 0, 2, 1, 1, 1, 0, 2, 1, 1, 1, 0, 0, 0, 0, 0, 0,\n",
       "        0, 0, 0, 0, 0, 1, 2, 1, 1, 0, 1, 1, 2, 1, 1, 1, 0, 0, 2, 1, 1, 2,\n",
       "        2, 2, 2, 0, 1, 0, 2, 2, 0, 1, 0, 0, 0, 2, 0, 2, 1, 1, 0, 2, 2, 2,\n",
       "        0, 1, 0, 2, 0, 0, 2, 0, 1, 2, 0, 2, 0, 1, 1, 0, 1, 0, 1, 0, 2, 2,\n",
       "        0, 2, 0, 0, 1, 1, 2, 1, 0, 1, 0, 2, 2, 2, 2, 0, 0, 2, 1, 0, 0, 0,\n",
       "        2, 0, 1, 0, 0, 2, 1, 2, 0, 0, 1, 1, 1, 2, 2, 1], dtype=int64),\n",
       " Index(['home', 'away', 'draw'], dtype='object'))"
      ]
     },
     "execution_count": 23,
     "metadata": {},
     "output_type": "execute_result"
    }
   ],
   "source": [
    "os.getcwd()\n",
    "# df.shape\n",
    "# df\n",
    "tmp = df['outcome'].astype('category')\n",
    "tmp.dtype\n",
    "df.columns\n",
    "pd.factorize(y)"
   ]
  },
  {
   "cell_type": "markdown",
   "metadata": {},
   "source": [
    "# Explanation of \"bet365_outcome_features.csv\"\n",
    "\n",
    "### Columns:\n",
    "#### Categorical - Ordinal (i.e., ordered)\n",
    "None \n",
    "#### Categorical - Nominal (i.e., unordered)\n",
    "1. match_id \n",
    "4. outcome = {home, away, draw}\n",
    "\n",
    "#### Various: Dates, Times\n",
    "2. match_date\n",
    "3. match_time\n",
    "\n",
    "#### Numeric\n",
    "5. closing_odds_outcome\n",
    "6. home_opening\n",
    "7. home_closing\n",
    "8. draw_opening\n",
    "9. draw_closing\n",
    "10. away_opening\n",
    "11. away_closing\n",
    "12. home_opening_minus_closing\n",
    "13. draw_opening_minus_closing\n",
    "14. away_opening_minus_closing\n",
    "15. home_min\n",
    "16. home_max\n",
    "17. home_range\n",
    "18. draw_min\n",
    "19. draw_max\n",
    "20. draw_range\n",
    "21. away_min\n",
    "22. away_max\n",
    "23. away_range"
   ]
  },
  {
   "cell_type": "markdown",
   "metadata": {},
   "source": [
    "# Ideas\n",
    "1. Predict winnings given bet size\n",
    "2. Predict who will win or lose\n",
    "2. Classifier that will spit out probabilities of winning\n",
    "\n",
    "# Steps\n",
    "1. For given dataset (i.e., csv file), create $X$ matrix with features and $y$ vector with outcomes. This is the one step that is dependent on the dataset. Everything else that follows should be independent of dataset.\n",
    "2. Split data into train/test split\n",
    "3. Classify\n",
    "4. Spit out plots and metrics\n",
    "\n",
    "# Notes\n",
    "* **Predictors being used now**: \n",
    "* Some ML models (e.g., regression and SVM) are algebraic and thus their input must be numeric. To use these categories must be transformed into numbers\n",
    "\n",
    "# To Dos\n",
    "### Model evaluation-wise\n",
    "1. Compare performance to just choosing favored team\n",
    "2. Tune model re number of trees and any other parameters\n",
    "3. How does model perform on those games for which difference in odds is high? Same question for difference in odds being low? \n",
    "\n",
    "### Miscellaneous\n",
    "1. How is variable importance calculated for RFs? See [here](https://towardsdatascience.com/random-forest-in-python-24d0893d51c0)\n",
    "2. How "
   ]
  }
 ],
 "metadata": {
  "kernelspec": {
   "display_name": "Python 3",
   "language": "python",
   "name": "python3"
  },
  "language_info": {
   "codemirror_mode": {
    "name": "ipython",
    "version": 3
   },
   "file_extension": ".py",
   "mimetype": "text/x-python",
   "name": "python",
   "nbconvert_exporter": "python",
   "pygments_lexer": "ipython3",
   "version": "3.7.2"
  }
 },
 "nbformat": 4,
 "nbformat_minor": 2
}
