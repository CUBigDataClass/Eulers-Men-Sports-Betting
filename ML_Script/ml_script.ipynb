{
 "cells": [
  {
   "cell_type": "markdown",
   "metadata": {},
   "source": [
    "# Load Libraries and Set Hyperparameters"
   ]
  },
  {
   "cell_type": "code",
   "execution_count": 177,
   "metadata": {},
   "outputs": [],
   "source": [
    "import numpy as np\n",
    "import pandas as pd \n",
    "import os\n",
    "import matplotlib.pyplot as plt\n",
    "from sklearn.model_selection import train_test_split\n",
    "from sklearn.ensemble import RandomForestClassifier\n",
    "# import feather"
   ]
  },
  {
   "cell_type": "code",
   "execution_count": 190,
   "metadata": {},
   "outputs": [],
   "source": [
    "# Set hyperparameter values\n",
    "num_trees = 30\n",
    "# rand_state = np.random.normal()\n",
    "rand_state = 420\n",
    "num_jobs = 1 # parameter for parallelization\n",
    "test_prop = 0.15 # proportion of data to use for testing"
   ]
  },
  {
   "cell_type": "markdown",
   "metadata": {},
   "source": [
    "# Read in Data and Construct Predictors and Set Outcome Variable\n",
    "\n",
    "Assumption is that data has AT LEAST the following columns: (1) \"league\", (2) \"outcome\" (i.e., who won which is either home, away, or draw), and (2) home-, (3) away-, and (4) draw-odds at every hour up to 72 hours before the game. The form of the odds should be \"`<home/away/draw>_<{0,1,...,71}>`\" where 0 corresponds to closing odds (i.e., odds closest to game time) and 71 corresponds to opening odds (i.e., odds furthest from game time)."
   ]
  },
  {
   "cell_type": "markdown",
   "metadata": {},
   "source": [
    "### Read in Data"
   ]
  },
  {
   "cell_type": "code",
   "execution_count": 191,
   "metadata": {},
   "outputs": [
    {
     "data": {
      "text/plain": [
       "'C:\\\\Users\\\\Erik\\\\Desktop\\\\Eulers-Men-Sports-Betting'"
      ]
     },
     "execution_count": 191,
     "metadata": {},
     "output_type": "execute_result"
    }
   ],
   "source": [
    "os.getcwd()\n",
    "os.chdir(\"/Users/Erik/Desktop/Eulers-Men-Sports-Betting/\")"
   ]
  },
  {
   "cell_type": "code",
   "execution_count": 192,
   "metadata": {},
   "outputs": [],
   "source": [
    "df = pd.read_csv('DataPreprocessing/ml_df_test.csv', sep=',')\n",
    "# df.describe()\n",
    "# df.dtypes\n",
    "# df[\"league\"].astype('category')\n",
    "# df.dtypes"
   ]
  },
  {
   "cell_type": "markdown",
   "metadata": {},
   "source": [
    "### Construct Predictors and Outcome Variables"
   ]
  },
  {
   "cell_type": "markdown",
   "metadata": {},
   "source": [
    "Ignoring \"league\" right now because of one-hot-encoding issues"
   ]
  },
  {
   "cell_type": "code",
   "execution_count": 193,
   "metadata": {},
   "outputs": [
    {
     "data": {
      "text/plain": [
       "Index(['home_away_diff_0', 'draw_0', 'home_0', 'away_0'], dtype='object')"
      ]
     },
     "execution_count": 193,
     "metadata": {},
     "output_type": "execute_result"
    }
   ],
   "source": [
    "# Predictors including home-away odds differences, draw odds, and league\n",
    "# predictors = [(\"home_away_\" in column) or (\"draw_\" in column) or (\"league\" in column) for column in list(df.columns)]\n",
    "\n",
    "# Predictors including home-away odds differences and draw odds\n",
    "# predictors = [(\"home_away_\" in column) or (\"draw_\" in column) for column in list(df.columns)]\n",
    "\n",
    "# Predictors including home-away odds differences and just closing draw odds\n",
    "# predictors = [(\"home_away_\" in column) or (\"draw_\" in column) for column in list(df.columns)]\n",
    "\n",
    "# Predictors including just closing home-away odds differences\n",
    "# predictors = [(\"home_away_diff_0\" in column) for column in list(df.columns)]\n",
    "\n",
    "# Predictors just home_0, away_0, draw_0\n",
    "predictors = [(\"_0\" in column) for column in list(df.columns)]\n",
    "\n",
    "df.columns[predictors]\n",
    "\n",
    "X = df.iloc[:,predictors]"
   ]
  },
  {
   "cell_type": "code",
   "execution_count": 194,
   "metadata": {},
   "outputs": [],
   "source": [
    "y = df[\"outcome\"]"
   ]
  },
  {
   "cell_type": "code",
   "execution_count": 195,
   "metadata": {},
   "outputs": [
    {
     "data": {
      "text/html": [
       "<div>\n",
       "<style scoped>\n",
       "    .dataframe tbody tr th:only-of-type {\n",
       "        vertical-align: middle;\n",
       "    }\n",
       "\n",
       "    .dataframe tbody tr th {\n",
       "        vertical-align: top;\n",
       "    }\n",
       "\n",
       "    .dataframe thead th {\n",
       "        text-align: right;\n",
       "    }\n",
       "</style>\n",
       "<table border=\"1\" class=\"dataframe\">\n",
       "  <thead>\n",
       "    <tr style=\"text-align: right;\">\n",
       "      <th></th>\n",
       "      <th>home_away_diff_0</th>\n",
       "      <th>draw_0</th>\n",
       "      <th>home_0</th>\n",
       "      <th>away_0</th>\n",
       "    </tr>\n",
       "  </thead>\n",
       "  <tbody>\n",
       "    <tr>\n",
       "      <th>0</th>\n",
       "      <td>-12.86</td>\n",
       "      <td>6.00</td>\n",
       "      <td>1.14</td>\n",
       "      <td>14.0</td>\n",
       "    </tr>\n",
       "    <tr>\n",
       "      <th>1</th>\n",
       "      <td>-2.27</td>\n",
       "      <td>3.50</td>\n",
       "      <td>1.73</td>\n",
       "      <td>4.0</td>\n",
       "    </tr>\n",
       "    <tr>\n",
       "      <th>2</th>\n",
       "      <td>-0.35</td>\n",
       "      <td>3.40</td>\n",
       "      <td>2.45</td>\n",
       "      <td>2.8</td>\n",
       "    </tr>\n",
       "    <tr>\n",
       "      <th>3</th>\n",
       "      <td>-11.71</td>\n",
       "      <td>4.75</td>\n",
       "      <td>1.29</td>\n",
       "      <td>13.0</td>\n",
       "    </tr>\n",
       "    <tr>\n",
       "      <th>4</th>\n",
       "      <td>-1.00</td>\n",
       "      <td>3.75</td>\n",
       "      <td>2.10</td>\n",
       "      <td>3.1</td>\n",
       "    </tr>\n",
       "  </tbody>\n",
       "</table>\n",
       "</div>"
      ],
      "text/plain": [
       "   home_away_diff_0  draw_0  home_0  away_0\n",
       "0            -12.86    6.00    1.14    14.0\n",
       "1             -2.27    3.50    1.73     4.0\n",
       "2             -0.35    3.40    2.45     2.8\n",
       "3            -11.71    4.75    1.29    13.0\n",
       "4             -1.00    3.75    2.10     3.1"
      ]
     },
     "execution_count": 195,
     "metadata": {},
     "output_type": "execute_result"
    },
    {
     "data": {
      "text/plain": [
       "0    home\n",
       "1    away\n",
       "2    home\n",
       "3    draw\n",
       "4    home\n",
       "Name: outcome, dtype: object"
      ]
     },
     "execution_count": 195,
     "metadata": {},
     "output_type": "execute_result"
    }
   ],
   "source": [
    "X.head()\n",
    "y.head()"
   ]
  },
  {
   "cell_type": "markdown",
   "metadata": {},
   "source": [
    "```\n",
    "\n",
    "```"
   ]
  },
  {
   "cell_type": "markdown",
   "metadata": {},
   "source": [
    "# ML Model"
   ]
  },
  {
   "cell_type": "code",
   "execution_count": 196,
   "metadata": {},
   "outputs": [],
   "source": [
    "# Use random state\n",
    "# X_train, X_test, y_train, y_test = train_test_split(X, y, test_size=test_prop, random_state=rand_state)\n",
    "# RF_clf = RandomForestClassifier(n_estimators=num_trees, random_state=rand_state)\n",
    "\n",
    "# Does not use random state\n",
    "X_train, X_test, y_train, y_test = train_test_split(X, y, test_size=test_prop)\n",
    "RF_clf = RandomForestClassifier(n_estimators=num_trees)"
   ]
  },
  {
   "cell_type": "code",
   "execution_count": 197,
   "metadata": {},
   "outputs": [],
   "source": [
    "RF_clf = RandomForestClassifier(n_estimators=num_trees, random_state=rand_state)\n",
    "RF_clf = RandomForestClassifier(n_estimators=num_trees)"
   ]
  },
  {
   "cell_type": "code",
   "execution_count": 198,
   "metadata": {},
   "outputs": [
    {
     "data": {
      "text/plain": [
       "RandomForestClassifier(bootstrap=True, class_weight=None, criterion='gini',\n",
       "            max_depth=None, max_features='auto', max_leaf_nodes=None,\n",
       "            min_impurity_decrease=0.0, min_impurity_split=None,\n",
       "            min_samples_leaf=1, min_samples_split=2,\n",
       "            min_weight_fraction_leaf=0.0, n_estimators=10, n_jobs=None,\n",
       "            oob_score=False, random_state=None, verbose=0,\n",
       "            warm_start=False)"
      ]
     },
     "execution_count": 198,
     "metadata": {},
     "output_type": "execute_result"
    }
   ],
   "source": [
    "RF_clf.fit(X_train, y_train)"
   ]
  },
  {
   "cell_type": "code",
   "execution_count": 199,
   "metadata": {},
   "outputs": [
    {
     "data": {
      "text/plain": [
       "(array(['home', 'home', 'home', 'home', 'home', 'home', 'away', 'home',\n",
       "        'away', 'home'], dtype=object), 14815    home\n",
       " 13123    draw\n",
       " 6893     away\n",
       " 24054    home\n",
       " 11575    away\n",
       " 19289    away\n",
       " 22701    home\n",
       " 6469     home\n",
       " 3200     draw\n",
       " 6218     draw\n",
       " Name: outcome, dtype: object)"
      ]
     },
     "execution_count": 199,
     "metadata": {},
     "output_type": "execute_result"
    }
   ],
   "source": [
    "y_pred = RF_clf.predict(X_test)\n",
    "# y_pred[:10], y_test[:10]"
   ]
  },
  {
   "cell_type": "code",
   "execution_count": 201,
   "metadata": {},
   "outputs": [
    {
     "data": {
      "text/plain": [
       "0.44731878199946107"
      ]
     },
     "execution_count": 201,
     "metadata": {},
     "output_type": "execute_result"
    }
   ],
   "source": [
    "sum(y_pred==y_test)/len(y_test)\n",
    "\n",
    "# feature_importances = pd.DataFrame(RF_clf.feature_importances_,\n",
    "#                                    index = X_train.columns,\n",
    "#                                     columns=['importance']).sort_values('importance',                                                                 ascending=False)\n",
    "# feature_importances\n"
   ]
  },
  {
   "cell_type": "markdown",
   "metadata": {},
   "source": [
    "# Compare our Model to Other Betting Strategies\n",
    "\n",
    "### Bet on Team with Higher Odds"
   ]
  },
  {
   "cell_type": "code",
   "execution_count": 202,
   "metadata": {},
   "outputs": [],
   "source": [
    "def pred_team_with_higher_odds(X_test):\n",
    "    predictions = [\"home\" if odds_diff<0 else \"away\" for odds_diff in X_test['home_away_diff_0']]\n",
    "    return(np.array(predictions))"
   ]
  },
  {
   "cell_type": "code",
   "execution_count": 203,
   "metadata": {},
   "outputs": [
    {
     "data": {
      "text/plain": [
       "(3711,)"
      ]
     },
     "execution_count": 203,
     "metadata": {},
     "output_type": "execute_result"
    },
    {
     "data": {
      "text/plain": [
       "(3711,)"
      ]
     },
     "execution_count": 203,
     "metadata": {},
     "output_type": "execute_result"
    },
    {
     "data": {
      "text/plain": [
       "(3711,)"
      ]
     },
     "execution_count": 203,
     "metadata": {},
     "output_type": "execute_result"
    },
    {
     "data": {
      "text/plain": [
       "0.4925895984909728"
      ]
     },
     "execution_count": 203,
     "metadata": {},
     "output_type": "execute_result"
    }
   ],
   "source": [
    "bet_high_odds_preds = pred_team_with_higher_odds(X_test)\n",
    "y_test.shape\n",
    "y_pred.shape\n",
    "bet_high_odds_preds.shape\n",
    "sum(bet_high_odds_preds==y_test)/len(y_test)\n"
   ]
  },
  {
   "cell_type": "code",
   "execution_count": 99,
   "metadata": {},
   "outputs": [
    {
     "data": {
      "text/plain": [
       "['away',\n",
       " 'away',\n",
       " 'away',\n",
       " 'away',\n",
       " 'away',\n",
       " 'home',\n",
       " 'away',\n",
       " 'home',\n",
       " 'away',\n",
       " 'home']"
      ]
     },
     "execution_count": 99,
     "metadata": {},
     "output_type": "execute_result"
    },
    {
     "data": {
      "text/plain": [
       "18654    -1.30\n",
       "5997     -4.25\n",
       "28235    -1.10\n",
       "15046    -2.20\n",
       "6881    -13.78\n",
       "3462      1.00\n",
       "23143    -0.50\n",
       "23735     2.94\n",
       "17508    -3.97\n",
       "15237     6.56\n",
       "Name: home_away_diff_71, dtype: float64"
      ]
     },
     "execution_count": 99,
     "metadata": {},
     "output_type": "execute_result"
    }
   ],
   "source": [
    "df = X_test[['home_away_diff_71', 'draw_71']]\n",
    "predictions = [\"home\" if odds_diff>=0 else \"away\" for odds_diff in X_test['home_away_diff_71']]\n",
    "predictions[:10]\n",
    "X_test['home_away_diff_71'][:10]\n"
   ]
  },
  {
   "cell_type": "code",
   "execution_count": 91,
   "metadata": {},
   "outputs": [
    {
     "data": {
      "text/html": [
       "<div>\n",
       "<style scoped>\n",
       "    .dataframe tbody tr th:only-of-type {\n",
       "        vertical-align: middle;\n",
       "    }\n",
       "\n",
       "    .dataframe tbody tr th {\n",
       "        vertical-align: top;\n",
       "    }\n",
       "\n",
       "    .dataframe thead th {\n",
       "        text-align: right;\n",
       "    }\n",
       "</style>\n",
       "<table border=\"1\" class=\"dataframe\">\n",
       "  <thead>\n",
       "    <tr style=\"text-align: right;\">\n",
       "      <th></th>\n",
       "      <th>home_away_diff_71</th>\n",
       "      <th>draw_71</th>\n",
       "    </tr>\n",
       "  </thead>\n",
       "  <tbody>\n",
       "    <tr>\n",
       "      <th>18654</th>\n",
       "      <td>-1.30</td>\n",
       "      <td>3.40</td>\n",
       "    </tr>\n",
       "    <tr>\n",
       "      <th>5997</th>\n",
       "      <td>-4.25</td>\n",
       "      <td>4.33</td>\n",
       "    </tr>\n",
       "    <tr>\n",
       "      <th>28235</th>\n",
       "      <td>-1.10</td>\n",
       "      <td>3.00</td>\n",
       "    </tr>\n",
       "    <tr>\n",
       "      <th>15046</th>\n",
       "      <td>-2.20</td>\n",
       "      <td>3.80</td>\n",
       "    </tr>\n",
       "    <tr>\n",
       "      <th>6881</th>\n",
       "      <td>-13.78</td>\n",
       "      <td>5.50</td>\n",
       "    </tr>\n",
       "    <tr>\n",
       "      <th>3462</th>\n",
       "      <td>1.00</td>\n",
       "      <td>3.30</td>\n",
       "    </tr>\n",
       "    <tr>\n",
       "      <th>23143</th>\n",
       "      <td>-0.50</td>\n",
       "      <td>3.40</td>\n",
       "    </tr>\n",
       "    <tr>\n",
       "      <th>23735</th>\n",
       "      <td>2.94</td>\n",
       "      <td>4.10</td>\n",
       "    </tr>\n",
       "    <tr>\n",
       "      <th>17508</th>\n",
       "      <td>-3.97</td>\n",
       "      <td>4.33</td>\n",
       "    </tr>\n",
       "    <tr>\n",
       "      <th>15237</th>\n",
       "      <td>6.56</td>\n",
       "      <td>3.75</td>\n",
       "    </tr>\n",
       "    <tr>\n",
       "      <th>4547</th>\n",
       "      <td>0.80</td>\n",
       "      <td>3.50</td>\n",
       "    </tr>\n",
       "    <tr>\n",
       "      <th>1094</th>\n",
       "      <td>1.55</td>\n",
       "      <td>3.30</td>\n",
       "    </tr>\n",
       "    <tr>\n",
       "      <th>8040</th>\n",
       "      <td>-0.90</td>\n",
       "      <td>2.88</td>\n",
       "    </tr>\n",
       "    <tr>\n",
       "      <th>4195</th>\n",
       "      <td>1.30</td>\n",
       "      <td>3.60</td>\n",
       "    </tr>\n",
       "    <tr>\n",
       "      <th>26966</th>\n",
       "      <td>-0.45</td>\n",
       "      <td>2.95</td>\n",
       "    </tr>\n",
       "    <tr>\n",
       "      <th>26556</th>\n",
       "      <td>-4.50</td>\n",
       "      <td>3.75</td>\n",
       "    </tr>\n",
       "    <tr>\n",
       "      <th>15918</th>\n",
       "      <td>0.20</td>\n",
       "      <td>3.10</td>\n",
       "    </tr>\n",
       "    <tr>\n",
       "      <th>24015</th>\n",
       "      <td>-1.22</td>\n",
       "      <td>3.75</td>\n",
       "    </tr>\n",
       "    <tr>\n",
       "      <th>9641</th>\n",
       "      <td>0.62</td>\n",
       "      <td>3.25</td>\n",
       "    </tr>\n",
       "    <tr>\n",
       "      <th>937</th>\n",
       "      <td>4.33</td>\n",
       "      <td>3.40</td>\n",
       "    </tr>\n",
       "    <tr>\n",
       "      <th>26811</th>\n",
       "      <td>-1.80</td>\n",
       "      <td>3.30</td>\n",
       "    </tr>\n",
       "    <tr>\n",
       "      <th>12971</th>\n",
       "      <td>-4.67</td>\n",
       "      <td>5.00</td>\n",
       "    </tr>\n",
       "    <tr>\n",
       "      <th>1032</th>\n",
       "      <td>-2.77</td>\n",
       "      <td>3.40</td>\n",
       "    </tr>\n",
       "    <tr>\n",
       "      <th>1097</th>\n",
       "      <td>-4.50</td>\n",
       "      <td>4.20</td>\n",
       "    </tr>\n",
       "    <tr>\n",
       "      <th>15442</th>\n",
       "      <td>0.85</td>\n",
       "      <td>3.30</td>\n",
       "    </tr>\n",
       "    <tr>\n",
       "      <th>19919</th>\n",
       "      <td>-2.66</td>\n",
       "      <td>4.20</td>\n",
       "    </tr>\n",
       "    <tr>\n",
       "      <th>6558</th>\n",
       "      <td>0.05</td>\n",
       "      <td>3.20</td>\n",
       "    </tr>\n",
       "    <tr>\n",
       "      <th>13979</th>\n",
       "      <td>-2.37</td>\n",
       "      <td>3.60</td>\n",
       "    </tr>\n",
       "    <tr>\n",
       "      <th>20084</th>\n",
       "      <td>-0.10</td>\n",
       "      <td>3.10</td>\n",
       "    </tr>\n",
       "    <tr>\n",
       "      <th>22064</th>\n",
       "      <td>-3.02</td>\n",
       "      <td>3.60</td>\n",
       "    </tr>\n",
       "    <tr>\n",
       "      <th>...</th>\n",
       "      <td>...</td>\n",
       "      <td>...</td>\n",
       "    </tr>\n",
       "    <tr>\n",
       "      <th>9243</th>\n",
       "      <td>-0.13</td>\n",
       "      <td>3.50</td>\n",
       "    </tr>\n",
       "    <tr>\n",
       "      <th>15215</th>\n",
       "      <td>-1.25</td>\n",
       "      <td>3.30</td>\n",
       "    </tr>\n",
       "    <tr>\n",
       "      <th>4068</th>\n",
       "      <td>-1.80</td>\n",
       "      <td>3.25</td>\n",
       "    </tr>\n",
       "    <tr>\n",
       "      <th>22525</th>\n",
       "      <td>-1.00</td>\n",
       "      <td>3.60</td>\n",
       "    </tr>\n",
       "    <tr>\n",
       "      <th>20101</th>\n",
       "      <td>3.93</td>\n",
       "      <td>4.00</td>\n",
       "    </tr>\n",
       "    <tr>\n",
       "      <th>22346</th>\n",
       "      <td>-15.78</td>\n",
       "      <td>7.00</td>\n",
       "    </tr>\n",
       "    <tr>\n",
       "      <th>25450</th>\n",
       "      <td>-20.65</td>\n",
       "      <td>9.75</td>\n",
       "    </tr>\n",
       "    <tr>\n",
       "      <th>4729</th>\n",
       "      <td>-1.30</td>\n",
       "      <td>3.50</td>\n",
       "    </tr>\n",
       "    <tr>\n",
       "      <th>24425</th>\n",
       "      <td>-0.35</td>\n",
       "      <td>3.20</td>\n",
       "    </tr>\n",
       "    <tr>\n",
       "      <th>18719</th>\n",
       "      <td>4.55</td>\n",
       "      <td>4.75</td>\n",
       "    </tr>\n",
       "    <tr>\n",
       "      <th>23415</th>\n",
       "      <td>0.48</td>\n",
       "      <td>3.30</td>\n",
       "    </tr>\n",
       "    <tr>\n",
       "      <th>20463</th>\n",
       "      <td>-9.67</td>\n",
       "      <td>4.50</td>\n",
       "    </tr>\n",
       "    <tr>\n",
       "      <th>23150</th>\n",
       "      <td>0.10</td>\n",
       "      <td>3.00</td>\n",
       "    </tr>\n",
       "    <tr>\n",
       "      <th>16835</th>\n",
       "      <td>5.55</td>\n",
       "      <td>4.50</td>\n",
       "    </tr>\n",
       "    <tr>\n",
       "      <th>23543</th>\n",
       "      <td>-1.10</td>\n",
       "      <td>3.15</td>\n",
       "    </tr>\n",
       "    <tr>\n",
       "      <th>1550</th>\n",
       "      <td>0.20</td>\n",
       "      <td>3.00</td>\n",
       "    </tr>\n",
       "    <tr>\n",
       "      <th>21200</th>\n",
       "      <td>-0.95</td>\n",
       "      <td>3.00</td>\n",
       "    </tr>\n",
       "    <tr>\n",
       "      <th>12201</th>\n",
       "      <td>1.60</td>\n",
       "      <td>3.50</td>\n",
       "    </tr>\n",
       "    <tr>\n",
       "      <th>8000</th>\n",
       "      <td>-1.85</td>\n",
       "      <td>3.25</td>\n",
       "    </tr>\n",
       "    <tr>\n",
       "      <th>19564</th>\n",
       "      <td>-0.70</td>\n",
       "      <td>3.60</td>\n",
       "    </tr>\n",
       "    <tr>\n",
       "      <th>19041</th>\n",
       "      <td>-13.80</td>\n",
       "      <td>6.00</td>\n",
       "    </tr>\n",
       "    <tr>\n",
       "      <th>27309</th>\n",
       "      <td>-0.82</td>\n",
       "      <td>2.89</td>\n",
       "    </tr>\n",
       "    <tr>\n",
       "      <th>11175</th>\n",
       "      <td>-1.77</td>\n",
       "      <td>4.00</td>\n",
       "    </tr>\n",
       "    <tr>\n",
       "      <th>25798</th>\n",
       "      <td>-1.85</td>\n",
       "      <td>3.50</td>\n",
       "    </tr>\n",
       "    <tr>\n",
       "      <th>949</th>\n",
       "      <td>-1.10</td>\n",
       "      <td>3.30</td>\n",
       "    </tr>\n",
       "    <tr>\n",
       "      <th>7391</th>\n",
       "      <td>-1.40</td>\n",
       "      <td>3.30</td>\n",
       "    </tr>\n",
       "    <tr>\n",
       "      <th>17315</th>\n",
       "      <td>-4.93</td>\n",
       "      <td>3.60</td>\n",
       "    </tr>\n",
       "    <tr>\n",
       "      <th>24069</th>\n",
       "      <td>-0.45</td>\n",
       "      <td>2.75</td>\n",
       "    </tr>\n",
       "    <tr>\n",
       "      <th>17980</th>\n",
       "      <td>-1.85</td>\n",
       "      <td>3.50</td>\n",
       "    </tr>\n",
       "    <tr>\n",
       "      <th>26949</th>\n",
       "      <td>0.95</td>\n",
       "      <td>2.85</td>\n",
       "    </tr>\n",
       "  </tbody>\n",
       "</table>\n",
       "<p>5821 rows × 2 columns</p>\n",
       "</div>"
      ],
      "text/plain": [
       "       home_away_diff_71  draw_71\n",
       "18654              -1.30     3.40\n",
       "5997               -4.25     4.33\n",
       "28235              -1.10     3.00\n",
       "15046              -2.20     3.80\n",
       "6881              -13.78     5.50\n",
       "3462                1.00     3.30\n",
       "23143              -0.50     3.40\n",
       "23735               2.94     4.10\n",
       "17508              -3.97     4.33\n",
       "15237               6.56     3.75\n",
       "4547                0.80     3.50\n",
       "1094                1.55     3.30\n",
       "8040               -0.90     2.88\n",
       "4195                1.30     3.60\n",
       "26966              -0.45     2.95\n",
       "26556              -4.50     3.75\n",
       "15918               0.20     3.10\n",
       "24015              -1.22     3.75\n",
       "9641                0.62     3.25\n",
       "937                 4.33     3.40\n",
       "26811              -1.80     3.30\n",
       "12971              -4.67     5.00\n",
       "1032               -2.77     3.40\n",
       "1097               -4.50     4.20\n",
       "15442               0.85     3.30\n",
       "19919              -2.66     4.20\n",
       "6558                0.05     3.20\n",
       "13979              -2.37     3.60\n",
       "20084              -0.10     3.10\n",
       "22064              -3.02     3.60\n",
       "...                  ...      ...\n",
       "9243               -0.13     3.50\n",
       "15215              -1.25     3.30\n",
       "4068               -1.80     3.25\n",
       "22525              -1.00     3.60\n",
       "20101               3.93     4.00\n",
       "22346             -15.78     7.00\n",
       "25450             -20.65     9.75\n",
       "4729               -1.30     3.50\n",
       "24425              -0.35     3.20\n",
       "18719               4.55     4.75\n",
       "23415               0.48     3.30\n",
       "20463              -9.67     4.50\n",
       "23150               0.10     3.00\n",
       "16835               5.55     4.50\n",
       "23543              -1.10     3.15\n",
       "1550                0.20     3.00\n",
       "21200              -0.95     3.00\n",
       "12201               1.60     3.50\n",
       "8000               -1.85     3.25\n",
       "19564              -0.70     3.60\n",
       "19041             -13.80     6.00\n",
       "27309              -0.82     2.89\n",
       "11175              -1.77     4.00\n",
       "25798              -1.85     3.50\n",
       "949                -1.10     3.30\n",
       "7391               -1.40     3.30\n",
       "17315              -4.93     3.60\n",
       "24069              -0.45     2.75\n",
       "17980              -1.85     3.50\n",
       "26949               0.95     2.85\n",
       "\n",
       "[5821 rows x 2 columns]"
      ]
     },
     "execution_count": 91,
     "metadata": {},
     "output_type": "execute_result"
    }
   ],
   "source": [
    "X_test[['home_away_diff_71', 'draw_71']]"
   ]
  },
  {
   "cell_type": "markdown",
   "metadata": {},
   "source": [
    "# Ideas\n",
    "1. Predict winnings given bet size\n",
    "2. Predict who will win or lose\n",
    "2. Classifier that will spit out probabilities of winning\n",
    "\n",
    "# Steps\n",
    "1. For given dataset (i.e., csv file), create $X$ matrix with features and $y$ vector with outcomes. This is the one step that is dependent on the dataset. Everything else that follows should be independent of dataset.\n",
    "2. Split data into train/test split\n",
    "3. Classify\n",
    "4. Spit out plots and metrics\n",
    "\n",
    "# Notes\n",
    "* **Predictors being used now**: \n",
    "* Some ML models (e.g., regression and SVM) are algebraic and thus their input must be numeric. To use these categories must be transformed into numbers\n",
    "\n",
    "# To Dos\n",
    "### Model evaluation-wise\n",
    "1. Compare performance to just choosing favored team\n",
    "2. Tune model re number of trees and any other parameters\n",
    "3. How does model perform on those games for which difference in odds is high? Same question for difference in odds being low? \n",
    "\n",
    "### Miscellaneous\n",
    "1. How is variable importance calculated for RFs? See [here](https://towardsdatascience.com/random-forest-in-python-24d0893d51c0)\n",
    "2. How "
   ]
  },
  {
   "cell_type": "markdown",
   "metadata": {},
   "source": [
    "# Old Code"
   ]
  },
  {
   "cell_type": "code",
   "execution_count": 50,
   "metadata": {},
   "outputs": [],
   "source": [
    "# label_colmn = \"outcome\"\n",
    "# predictor_colmns = ['closing_odds_outcome', 'home_team', 'away_team', 'home_opening', 'home_closing', 'draw_opening',\n",
    "#        'draw_closing', 'away_opening', 'away_closing',\n",
    "#        'home_opening_minus_closing', 'draw_opening_minus_closing',\n",
    "#        'away_opening_minus_closing', 'home_min', 'home_max', 'home_range',\n",
    "#        'draw_min', 'draw_max', 'draw_range', 'away_min', 'away_max',\n",
    "#        'away_range']\n",
    "# # predictor_colmns = ['closing_odds_outcome']\n",
    "\n",
    "\n",
    "# label_colmn "
   ]
  },
  {
   "cell_type": "code",
   "execution_count": 27,
   "metadata": {},
   "outputs": [],
   "source": [
    "# null_columns=X_train.columns[X_train.isnull().any()]\n",
    "# print(X_train[X_train.isnull().any(axis=1)][null_columns].head())\n",
    "# X_train['closing_odds_outcome'][289]\n",
    "# null_columns\n",
    "# X_train.isnull().any(axis=1).sum()"
   ]
  },
  {
   "cell_type": "code",
   "execution_count": 23,
   "metadata": {},
   "outputs": [
    {
     "data": {
      "text/plain": [
       "'C:\\\\Users\\\\Erik\\\\Desktop\\\\Eulers-Men-Sports-Betting\\\\ML_Script'"
      ]
     },
     "execution_count": 23,
     "metadata": {},
     "output_type": "execute_result"
    },
    {
     "data": {
      "text/plain": [
       "CategoricalDtype(categories=['away', 'draw', 'home'], ordered=False)"
      ]
     },
     "execution_count": 23,
     "metadata": {},
     "output_type": "execute_result"
    },
    {
     "data": {
      "text/plain": [
       "Index(['Unnamed: 0', 'V1', 'match_id', 'match_date', 'match_time', 'outcome',\n",
       "       'closing_odds_outcome', 'home_opening', 'home_closing', 'draw_opening',\n",
       "       'draw_closing', 'away_opening', 'away_closing',\n",
       "       'home_opening_minus_closing', 'draw_opening_minus_closing',\n",
       "       'away_opening_minus_closing', 'home_min', 'home_max', 'home_range',\n",
       "       'draw_min', 'draw_max', 'draw_range', 'away_min', 'away_max',\n",
       "       'away_range'],\n",
       "      dtype='object')"
      ]
     },
     "execution_count": 23,
     "metadata": {},
     "output_type": "execute_result"
    },
    {
     "data": {
      "text/plain": [
       "(array([0, 1, 0, 0, 0, 0, 2, 2, 1, 1, 0, 1, 2, 0, 1, 2, 1, 2, 0, 2, 2, 0,\n",
       "        1, 1, 0, 2, 0, 1, 0, 1, 0, 0, 0, 1, 0, 0, 0, 1, 2, 0, 2, 2, 1, 1,\n",
       "        0, 0, 1, 1, 2, 0, 1, 0, 1, 1, 2, 0, 0, 0, 2, 2, 2, 0, 2, 0, 0, 2,\n",
       "        2, 1, 0, 2, 1, 0, 2, 2, 0, 0, 1, 2, 0, 1, 2, 1, 0, 0, 1, 1, 1, 1,\n",
       "        1, 2, 0, 2, 0, 0, 2, 2, 2, 0, 0, 0, 0, 1, 0, 2, 1, 0, 1, 0, 0, 2,\n",
       "        0, 2, 1, 0, 0, 2, 0, 0, 0, 0, 1, 1, 2, 0, 1, 2, 2, 2, 0, 0, 1, 2,\n",
       "        1, 0, 0, 2, 0, 0, 0, 2, 1, 2, 0, 1, 1, 0, 1, 2, 0, 2, 2, 1, 1, 2,\n",
       "        0, 1, 1, 0, 1, 0, 2, 0, 2, 1, 0, 2, 0, 1, 2, 0, 0, 1, 2, 0, 1, 1,\n",
       "        1, 2, 1, 0, 0, 1, 1, 0, 0, 1, 0, 2, 0, 0, 0, 0, 0, 1, 0, 0, 2, 0,\n",
       "        1, 0, 0, 0, 1, 0, 1, 2, 2, 1, 0, 2, 1, 0, 1, 1, 2, 2, 0, 2, 0, 0,\n",
       "        2, 0, 1, 0, 0, 2, 0, 2, 1, 2, 2, 0, 0, 1, 0, 1, 0, 2, 0, 0, 0, 2,\n",
       "        0, 0, 0, 0, 0, 2, 2, 2, 0, 2, 1, 0, 2, 1, 2, 1, 0, 0, 0, 0, 2, 2,\n",
       "        1, 0, 1, 2, 0, 1, 1, 0, 0, 1, 1, 2, 2, 2, 0, 1, 1, 0, 0, 2, 0, 0,\n",
       "        1, 0, 0, 0, 1, 0, 1, 0, 1, 1, 2, 1, 0, 1, 2, 2, 0, 2, 0, 0, 2, 1,\n",
       "        1, 2, 0, 0, 1, 0, 0, 2, 1, 1, 1, 0, 2, 1, 1, 1, 0, 0, 0, 0, 0, 0,\n",
       "        0, 0, 0, 0, 0, 1, 2, 1, 1, 0, 1, 1, 2, 1, 1, 1, 0, 0, 2, 1, 1, 2,\n",
       "        2, 2, 2, 0, 1, 0, 2, 2, 0, 1, 0, 0, 0, 2, 0, 2, 1, 1, 0, 2, 2, 2,\n",
       "        0, 1, 0, 2, 0, 0, 2, 0, 1, 2, 0, 2, 0, 1, 1, 0, 1, 0, 1, 0, 2, 2,\n",
       "        0, 2, 0, 0, 1, 1, 2, 1, 0, 1, 0, 2, 2, 2, 2, 0, 0, 2, 1, 0, 0, 0,\n",
       "        2, 0, 1, 0, 0, 2, 1, 2, 0, 0, 1, 1, 1, 2, 2, 1], dtype=int64),\n",
       " Index(['home', 'away', 'draw'], dtype='object'))"
      ]
     },
     "execution_count": 23,
     "metadata": {},
     "output_type": "execute_result"
    }
   ],
   "source": [
    "os.getcwd()\n",
    "# df.shape\n",
    "# df\n",
    "tmp = df['outcome'].astype('category')\n",
    "tmp.dtype\n",
    "df.columns\n",
    "pd.factorize(y)"
   ]
  },
  {
   "cell_type": "code",
   "execution_count": 28,
   "metadata": {},
   "outputs": [
    {
     "data": {
      "text/plain": [
       "Series([], dtype: float64)"
      ]
     },
     "execution_count": 28,
     "metadata": {},
     "output_type": "execute_result"
    }
   ],
   "source": [
    "null_columns=df.columns[df.isnull().any()]\n",
    "df[null_columns].isnull().sum()"
   ]
  }
 ],
 "metadata": {
  "kernelspec": {
   "display_name": "Python 3",
   "language": "python",
   "name": "python3"
  },
  "language_info": {
   "codemirror_mode": {
    "name": "ipython",
    "version": 3
   },
   "file_extension": ".py",
   "mimetype": "text/x-python",
   "name": "python",
   "nbconvert_exporter": "python",
   "pygments_lexer": "ipython3",
   "version": "3.7.2"
  }
 },
 "nbformat": 4,
 "nbformat_minor": 2
}
